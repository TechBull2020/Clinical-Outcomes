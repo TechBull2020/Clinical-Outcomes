{
 "cells": [
  {
   "cell_type": "markdown",
   "id": "78b91491",
   "metadata": {},
   "source": [
    "# Alignment of two or more sequences using Clustal\n",
    "\n"
   ]
  },
  {
   "cell_type": "markdown",
   "id": "91320b1c",
   "metadata": {},
   "source": [
    "### Summary \n",
    "1. Step 1 - Get input sequences. In this example, the input is NCBI accession number and sequences are retrieved from the Genbank database. The sequences in this example are coronavirus spile proteins. Two or more sequences can be used.\n",
    "2. Step 2 - Align the sequences. This uses Clustal. Output is fasta format with aligned sequences corresponding to inputs. \n"
   ]
  },
  {
   "cell_type": "markdown",
   "id": "447dd981",
   "metadata": {},
   "source": [
    "### Notes and references\n",
    "\n",
    "1. Clustal: https://www.ebi.ac.uk/Tools/msa/clustalo/\n",
    "2. Entrez     https://www.ncbi.nlm.nih.gov/books/NBK25499/table/chapter4.T._valid_values_of__retmode_and/"
   ]
  },
  {
   "cell_type": "markdown",
   "id": "468bd99a",
   "metadata": {},
   "source": [
    "### Installs\n",
    "1. clustalo for alignments:\n",
    "(a) sudo apt update \n",
    "(b) sudo apt install clustalw\n",
    "2. biopython: \n",
    "(a) sudo apt update\n",
    "(b) sudo apt install biopython"
   ]
  },
  {
   "cell_type": "code",
   "execution_count": 1,
   "id": "1100e6f2",
   "metadata": {},
   "outputs": [],
   "source": [
    "## Imports"
   ]
  },
  {
   "cell_type": "code",
   "execution_count": 2,
   "id": "b18bd153",
   "metadata": {},
   "outputs": [],
   "source": [
    "import Bio                        \n",
    "from Bio import Entrez\n",
    "from Bio.Align.Applications import ClustalOmegaCommandline\n",
    "import tempfile"
   ]
  },
  {
   "cell_type": "markdown",
   "id": "ff6d4e23",
   "metadata": {},
   "source": [
    "## Step 1. Get Input Sequences\n",
    "* Inputs are two or more sequences in fasta format. Include one as the reference sequence. \n",
    "* In this case, sequences are retrieve from Genbank using NCBI accession numbers.\n",
    "* All sequences are written to single output file in fasta format for Clustal"
   ]
  },
  {
   "cell_type": "code",
   "execution_count": 3,
   "id": "20204c17",
   "metadata": {},
   "outputs": [],
   "source": [
    "omic = (\"UFO69279\", \"protein\")          # NCBI accession number for Omicron spike protein\n",
    "delta = (\"QWK65230\", \"protein\")          # NCBI accession number for Delta spike protein\n",
    "gamma = (\"P0DTC2\", \"protein\")         # NCBI accession number for Gamma spike protein\n",
    "beta = (\"UJB55404\", \"protein\")         # NCBI accession number for Beta spike protein\n",
    "\n",
    "\n",
    "# this example will just use the Delta Spike Protein and the Wuhan Spike (as base reference)\n",
    "base = (\"YP_009724390\",\"protein\")       # NCBI accession number for Wuhan spike protein ** REFERENCE\n",
    "subj_sequences = [delta]                   # include subjects in this list                 "
   ]
  },
  {
   "cell_type": "code",
   "execution_count": 4,
   "id": "d6ec9ff4",
   "metadata": {},
   "outputs": [],
   "source": [
    "def read_seq(idX,database):     # Read sequence from Genbank\n",
    "    \"\"\"\n",
    "    Inputs:   (a) NCBI accession number (b) database (\"protein\", etc.)\n",
    "    Process:  (a) Retrieve seqence (header and sequence)  ---- Using Entrez (see references / link for more info)\n",
    "    Outputs:  (a) sequence (header and sequence); i.e. fasta format\n",
    "    \"\"\"\n",
    "    seqX = ''                           # output sequence\n",
    "    fetch_handle = Entrez.efetch(database, id=idX, rettype='fasta', retmode=\"text\")    # input\n",
    "                                                           \n",
    "    for record in fetch_handle:        # retrieved from database\n",
    "        if len(record) == 0: break     # end\n",
    "        if record[0] ==\">\":            #\n",
    "            hdrX = record\n",
    "        else: \n",
    "            seqX = seqX + record     # sequence record\n",
    "    print(f\"\\nHdr: {hdrX} *** Sequencce length: {len(seqX)}\")       \n",
    "    return hdrX +  seqX                      # header concatenated to sequence "
   ]
  },
  {
   "cell_type": "code",
   "execution_count": 5,
   "id": "df31c520",
   "metadata": {},
   "outputs": [
    {
     "name": "stdout",
     "output_type": "stream",
     "text": [
      "Header and length of sequence for each input (possible warning due to lack of specified email address):\n"
     ]
    },
    {
     "name": "stderr",
     "output_type": "stream",
     "text": [
      "/home/raymond/anaconda3/lib/python3.9/site-packages/Bio/Entrez/__init__.py:658: UserWarning: \n",
      "Email address is not specified.\n",
      "\n",
      "To make use of NCBI's E-utilities, NCBI requires you to specify your\n",
      "email address with each request.  As an example, if your email address\n",
      "is A.N.Other@example.com, you can specify it as follows:\n",
      "   from Bio import Entrez\n",
      "   Entrez.email = 'A.N.Other@example.com'\n",
      "In case of excessive usage of the E-utilities, NCBI will attempt to contact\n",
      "a user at the email address provided before blocking access to the\n",
      "E-utilities.\n",
      "  warnings.warn(\n"
     ]
    },
    {
     "name": "stdout",
     "output_type": "stream",
     "text": [
      "\n",
      "Hdr: >YP_009724390.1 surface glycoprotein [Severe acute respiratory syndrome coronavirus 2]\n",
      " *** Sequencce length: 1293\n",
      "\n",
      "Hdr: >QWK65230.1 surface glycoprotein [Severe acute respiratory syndrome coronavirus 2]\n",
      " *** Sequencce length: 1291\n"
     ]
    }
   ],
   "source": [
    "# write input sequences to a single fasta file for input to Clustal. This will be a temporary file used to pass data. \n",
    "print (\"Header and length of sequence for each input (possible warning due to lack of specified email address):\")\n",
    "# 1. Add Reference as first sequence\n",
    "out_fasta = read_seq(base[0],base[1])      # Retrieve sequence data from database (accession number and database)\n",
    "\n",
    "# 2. Add Subject sequences (one or more)\n",
    "for seq in subj_sequences:\n",
    "    out_fasta = out_fasta + read_seq(seq[0],seq[1])    # Retrieve sequence data from database (accession number and database)\n",
    "\n",
    "# 3. Write output for Clustal using temporary file\n",
    "tmp = tempfile.NamedTemporaryFile()       # create and write sequences to a single temporary file \n",
    "with open(tmp.name, 'w') as f:\n",
    "    f.write(out_fasta.strip()) "
   ]
  },
  {
   "cell_type": "markdown",
   "id": "4dd2365d",
   "metadata": {},
   "source": [
    "## Step 2. Clustal Align\n",
    "* Input is a single file of sequences in fasta format. In this case it is a temporary file generated in step 1.\n",
    "* Output is a single file of aligned sequences (in same order as input) in fasta format."
   ]
  },
  {
   "cell_type": "code",
   "execution_count": 6,
   "id": "3f34163f",
   "metadata": {},
   "outputs": [
    {
     "name": "stdout",
     "output_type": "stream",
     "text": [
      "Aligned sequences:\n",
      "\n",
      "  >YP_009724390.1 surface glycoprotein [Severe acute respiratory syndrome coronavirus 2]\n",
      "MFVFLVLLPLVSSQCVNLTTRTQLPPAYTNSFTRGVYYPDKVFRSSVLHSTQDLFLPFFS\n",
      "NVTWFHAIHVSGTNGTKRFDNPVLPFNDGVYFASTEKSNIIRGWIFGTTLDSKTQSLLIV\n",
      "NNATNVVIKVCEFQFCNDPFLGVYYHKNNKSWMESEFRVYSSANNCTFEYVSQPFLMDLE\n",
      "GKQGNFKNLREFVFKNIDGYFKIYSKHTPINLVRDLPQGFSALEPLVDLPIGINITRFQT\n",
      "LLALHRSYLTPGDSSSGWTAGAAAYYVGYLQPRTFLLKYNENGTITDAVDCALDPLSETK\n",
      "CTLKSFTVEKGIYQTSNFRVQPTESIVRFPNITNLCPFGEVFNATRFASVYAWNRKRISN\n",
      "CVADYSVLYNSASFSTFKCYGVSPTKLNDLCFTNVYADSFVIRGDEVRQIAPGQTGKIAD\n",
      "YNYKLPDDFTGCVIAWNSNNLDSKVGGNYNYLYRLFRKSNLKPFERDISTEIYQAGSTPC\n",
      "NGVEGFNCYFPLQSYGFQPTNGVGYQPYRVVVLSFELLHAPATVCGPKKSTNLVKNKCVN\n",
      "FNFNGLTGTGVLTESNKKFLPFQQFGRDIADTTDAVRDPQTLEILDITPCSFGGVSVITP\n",
      "GTNTSNQVAVLYQDVNCTEVPVAIHADQLTPTWRVYSTGSNVFQTRAGCLIGAEHVNNSY\n",
      "ECDIPIGAGICASYQTQTNSPRRARSVASQSIIAYTMSLGAENSVAYSNNSIAIPTNFTI\n",
      "SVTTEILPVSMTKTSVDCTMYICGDSTECSNLLLQYGSFCTQLNRALTGIAVEQDKNTQE\n",
      "VFAQVKQIYKTPPIKDFGGFNFSQILPDPSKPSKRSFIEDLLFNKVTLADAGFIKQYGDC\n",
      "LGDIAARDLICAQKFNGLTVLPPLLTDEMIAQYTSALLAGTITSGWTFGAGAALQIPFAM\n",
      "QMAYRFNGIGVTQNVLYENQKLIANQFNSAIGKIQDSLSSTASALGKLQDVVNQNAQALN\n",
      "TLVKQLSSNFGAISSVLNDILSRLDKVEAEVQIDRLITGRLQSLQTYVTQQLIRAAEIRA\n",
      "SANLAATKMSECVLGQSKRVDFCGKGYHLMSFPQSAPHGVVFLHVTYVPAQEKNFTTAPA\n",
      "ICHDGKAHFPREGVFVSNGTHWFVTQRNFYEPQIITTDNTFVSGNCDVVIGIVNNTVYDP\n",
      "LQPELDSFKEELDKYFKNHTSPDVDLGDISGINASVVNIQKEIDRLNEVAKNLNESLIDL\n",
      "QELGKYEQYIKWPWYIWLGFIAGLIAIVMVTIMLCCMTSCCSCLKGCCSCGSCCKFDEDD\n",
      "SEPVLKGVKLHYT\n",
      ">QWK65230.1 surface glycoprotein [Severe acute respiratory syndrome coronavirus 2]\n",
      "MFVFLVLLPLVSSQCVNLRTRTQLPPAYTNSFTRGVYYPDKVFRSSVLHSTQDLFLPFFS\n",
      "NVTWFHAIHVSGTNGTKRFDNPVLPFNDGVYFASTEKSNIIRGWIFGTTLDSKTQSLLIV\n",
      "NNATNVVIKVCEFQFCNDPFLDVYYHKNNKSWMES--GVYSSANNCTFEYVSQPFLMDLE\n",
      "GKQGNFKNLREFVFKNIDGYFKIYSKHTPINLVRDLPQGFSALEPLVDLPIGINITRFQT\n",
      "LLALHRSYLTPGDSSSGWTAGAAAYYVGYLQPRTFLLKYNENGTITDAVDCALDPLSETK\n",
      "CTLKSFTVEKGIYQTSNFRVQPTESIVRFPNITNLCPFGEVFNATRFASVYAWNRKRISN\n",
      "CVADYSVLYNSASFSTFKCYGVSPTKLNDLCFTNVYADSFVIRGDEVRQIAPGQTGKIAD\n",
      "YNYKLPDDFTGCVIAWNSNNLDSKVGGNYNYRYRLFRKSNLKPFERDISTEIYQAGSKPC\n",
      "NGVEGFNCYFPLQSYGFQPTNGVGYQPYRVVVLSFELLHAPATVCGPKKSTNLVKNKCVN\n",
      "FNFNGLTGTGVLTESNKKFLPFQQFGRDIADTTDAVRDPQTLEILDITPCSFGGVSVITP\n",
      "GTNTSNQVAVLYQGVNCTEVPVAIHADQLTPTWRVYSTGSNVFQTRAGCLIGAEHVNNSY\n",
      "ECDIPIGAGICASYQTQTNSRRRARSVASQSIIAYTMSLGAENSVAYSNNSIAIPTNFTI\n",
      "SVTTEILPVSMTKTSVDCTMYICGDSTECSNLLLQYGSFCTQLNRALTGIAVEQDKNTQE\n",
      "VFAQVKQIYKTPPIKDFGGFNFSQILPDPSKPSKRSFIEDLLFNKVTLADAGFIKQYGDC\n",
      "LGDIAARDLICAQKFNGLTVLPPLLTDEMIAQYTSALLAGTITSGWTFGAGAALQIPFAM\n",
      "QMAYRFNGIGVTQNVLYENQKLIANQFNSAIGKIQDSLSSTASALGKLQNVVNQNAQALN\n",
      "TLVKQLSSNFGAISSVLNDILSRLDKVEAEVQIDRLITGRLQSLQTYVTQQLIRAAEIRA\n",
      "SANLAATKMSECVLGQSKRVDFCGKGYHLMSFPQSAPHGVVFLHVTYVPAQEKNFTTAPA\n",
      "ICHDGKAHFPREGVFVSNGTHWFVTQRNFYEPQIITTDNTFVSGNCDVVIGIVNNTVYDP\n",
      "LQPELDSFKEELDKYFKNHTSPDVDLGDISGINASVVNIQKEIDRLNEVAKNLNESLIDL\n",
      "QELGKYEQYIKWPWYIWLGFIAGLIAIVMVTIMLCCMTSCCSCLKGCCSCGSCCKFDEDD\n",
      "SEPVLKGVKLHYT\n",
      "\n"
     ]
    }
   ],
   "source": [
    "# input is a single fasta file (tmp.name) with two or more sequences\n",
    "\n",
    "cline = ClustalOmegaCommandline( cmd='clustalo',  infile = tmp.name,  auto = True , seqtype = base[1])\n",
    "\n",
    "aligned_seqs, stderr = cline()        \n",
    "print('Aligned sequences:\\n\\n',stderr,aligned_seqs)"
   ]
  }
 ],
 "metadata": {
  "kernelspec": {
   "display_name": "Python 3 (ipykernel)",
   "language": "python",
   "name": "python3"
  },
  "language_info": {
   "codemirror_mode": {
    "name": "ipython",
    "version": 3
   },
   "file_extension": ".py",
   "mimetype": "text/x-python",
   "name": "python",
   "nbconvert_exporter": "python",
   "pygments_lexer": "ipython3",
   "version": "3.9.7"
  }
 },
 "nbformat": 4,
 "nbformat_minor": 5
}
