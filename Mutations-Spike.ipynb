{
 "cells": [
  {
   "cell_type": "markdown",
   "id": "78b91491",
   "metadata": {},
   "source": [
    "\n",
    "\n",
    "\n",
    "## This notebook identifies mutations in the Coronavirus Delta and Omicron Spike Protein from the original Wild-Type (Wuhan)  which is used as reference. \n",
    "\n",
    "### Uses NCBI GenBank Accession Number for Spike and uses Entrez.efetch to obtain sequences from GenBank. Uses Clustal for alignment of sequences. \n",
    "\n",
    "Wild-type: YP_009724390 (used as reference)\n",
    "\n",
    "Delta : QWK65230\n",
    "\n",
    "Omicron: UFO69279\n"
   ]
  },
  {
   "cell_type": "markdown",
   "id": "447dd981",
   "metadata": {},
   "source": [
    "### References / notes:\n",
    "1. This notebook identifies mutations in the Delta and Omicron Spike Protein. Mutations are listed in following (specifically, Figure 1): https://onlinelibrary.wiley.com/doi/full/10.1002/jmv.27526 . \n",
    "2. Additional, the following includes figure identifying specific mutations https://asm.org/Articles/2021/December/How-Ominous-is-the-Omicron-Variant-B-1-1-529 . \n",
    "3. Note differences in the above in interpretation; e.g. on Omicron around position 211. "
   ]
  },
  {
   "cell_type": "markdown",
   "id": "df2b2f29",
   "metadata": {},
   "source": [
    "### Inputs and Outputs:\n",
    "Inputs (retrieved from Genbank using the NCBI accession number in fasta format):\n",
    "* Reference sequence (in this example, it is the Coronavirus Wuhan Spike Protein, aka wild-tpye)\n",
    "* Subject sequence (in this case, the Delta Spike Protein)\n",
    "\n",
    "Outputs:\n",
    "* List of mutations in mutation format; e.g. T478K:   T in position 478 in reference was mutated to K in subject. The final mutations are mapped back to the original reference sequence; i.e. the 478 is the position in the referenced sequence (1-based)."
   ]
  },
  {
   "cell_type": "markdown",
   "id": "8ddfd75b",
   "metadata": {},
   "source": [
    "### Process Steps\n",
    "\n",
    "1. Execute setup - Imports, etc.\n",
    "2. Get input sequences from Genbank\n",
    "3. Align input sequences (uses Clustal)\n",
    "4. Find mutations in the aligned sequences\n",
    "5. Map mutations back to the reference sequence"
   ]
  },
  {
   "cell_type": "markdown",
   "id": "9a3b77db",
   "metadata": {},
   "source": [
    "### Expected Results (Wikipedia sources):\n",
    "\n",
    "Omicron Spike protein mutations: A67V, Δ69-70, T95I, G142D, Δ143-145, Δ211, L212I, ins214EPE, G339D, S371L, S373P, S375F, K417N, N440K, G446S, S477N, T478K, E484A, Q493R, G496S, Q498R, N501Y, Y505H, T547K, D614G, H655Y, N679K, P681H, N764K, D796Y, N856K, Q954H, N969K, L981F\n",
    "\n",
    "Delta spike protein mutations: T19R, G142D, Δ156-157, R158G, L452R, T478K, D614G, P681R, D950N\n",
    "\n",
    "### Calculated results:\n",
    "\n",
    "Omicron: Have differences around Δ211, L212I, ins214EPE (the 'insertion hotspot')\n",
    "\n",
    "Delta: calculated exactly.\n"
   ]
  },
  {
   "cell_type": "markdown",
   "id": "a7ac8967",
   "metadata": {},
   "source": [
    "## Step 1. Imports and Setup"
   ]
  },
  {
   "cell_type": "code",
   "execution_count": 1,
   "id": "b18bd153",
   "metadata": {},
   "outputs": [],
   "source": [
    "import Bio                        \n",
    "from Bio import  Entrez                                         # needed for retrieval from Genbank\n",
    "from Bio.Align.Applications import ClustalOmegaCommandline      # needed for alignment\n",
    "import tempfile\n"
   ]
  },
  {
   "cell_type": "code",
   "execution_count": 2,
   "id": "b5fc9b03",
   "metadata": {},
   "outputs": [],
   "source": [
    "# Define class for mutation\n",
    "\n",
    "class Mutation:   \n",
    "    genbank_reference = (\"name\", \"number\")        # NCBI GenBank Accession Number of subject sequence (e.g. Delta Spike)\n",
    "    genbank_subject = (\"name\", \"number\" )         # NCBI GenBank Accession Number of reference sequence (e.g. Wuhan Spike)\n",
    "    \n",
    "    def __init__(self, index, typex, align_loc, ref_value, subj_value):\n",
    "\n",
    "        self.index = index             # mutation number (sequential assigned: 1,2,3 )\n",
    "        self.typex = typex             # type = ins, del, sub  (insert, deletion, substution)\n",
    "        self.ref_value = ref_value     # value in the ref sequence that is mutated (could be more than one)\n",
    "        self.subj_value = subj_value   # value in subject that is changed from base\n",
    "        self.align_loc = align_loc     # location in aligned sequence (1 base)\n",
    "        self.ref_loc = 0               # location in reference sequence (1 base)\n",
    "  \n",
    "    def __str__(self):\n",
    "        return f\"Index:  {self.index} ,{self.align_loc}, {self.ref_loc} , {self.typex}, {self.ref_value}, '-->' {self.subj_value}\"\n",
    "\n"
   ]
  },
  {
   "cell_type": "code",
   "execution_count": 3,
   "id": "c1c97a08",
   "metadata": {},
   "outputs": [],
   "source": [
    "# Parameters  (comment out all but one subject for each execution)\n",
    "\n",
    "#genbank_subject = (\"Omicron\", \"UFO69279\")        # this is the subject.\n",
    "#genbank_subject = (\"Delta\", \"QWK65230\")       # this is the subject.\n",
    "#genbank_subject = (\"Gamma\", \"QHD43416\")       # this is the subject.\n",
    "#genbank_subject = (\"Beta\", \"UJB55404\")       # this is the subject.\n",
    "\n",
    "# Select subject and Reference\n",
    "genbank_subject = (\"Omicron\", \"UFO69279\")        # this is the subject.\n",
    "genbank_reference = (\"Wild-type\", \"YP_009724390\")  # this is the reference sequence (Wuhan origins)."
   ]
  },
  {
   "cell_type": "markdown",
   "id": "379ce767",
   "metadata": {},
   "source": [
    "##  Step 2. Get and save input sequences (Reference and Subject)\n"
   ]
  },
  {
   "cell_type": "code",
   "execution_count": 4,
   "id": "b0891a2c",
   "metadata": {},
   "outputs": [],
   "source": [
    "def read_seq(idX,database):     # Read sequence from Genbank\n",
    "    \"\"\"\n",
    "    Inputs:   (a) NCBI accession number (b) database (\"protein\", etc.)\n",
    "    Process:  (a) Retrieve seqence (header and sequence)  ---- Using Entrez (see references / link for more info)\n",
    "    Outputs:  (a) sequence header (b) sequence\n",
    "    \"\"\"\n",
    "    hdrX, seqX = '' , ''                          # output header and sequence\n",
    "    fetch_handle = Entrez.efetch(database, id=idX, rettype='fasta', retmode=\"text\")    # input\n",
    "                                                           \n",
    "    for record in fetch_handle:        # retrieved from database\n",
    "        if len(record) == 0: break     # end\n",
    "        if record[0] ==\">\":            #\n",
    "            hdrX = record\n",
    "        else: \n",
    "            seqX = seqX + record     # sequence record\n",
    "    print(f\"\\nHdr: {hdrX} *** Sequence length: {len(seqX)}\")       \n",
    "    return hdrX,  seqX                      # header,  sequence \n"
   ]
  },
  {
   "cell_type": "code",
   "execution_count": 5,
   "id": "544fc9c0",
   "metadata": {},
   "outputs": [
    {
     "name": "stdout",
     "output_type": "stream",
     "text": [
      "Header and length of sequence for each input (possible NCBI warning due to lack of specified email address):\n"
     ]
    },
    {
     "name": "stderr",
     "output_type": "stream",
     "text": [
      "/home/raymond/anaconda3/lib/python3.9/site-packages/Bio/Entrez/__init__.py:658: UserWarning: \n",
      "Email address is not specified.\n",
      "\n",
      "To make use of NCBI's E-utilities, NCBI requires you to specify your\n",
      "email address with each request.  As an example, if your email address\n",
      "is A.N.Other@example.com, you can specify it as follows:\n",
      "   from Bio import Entrez\n",
      "   Entrez.email = 'A.N.Other@example.com'\n",
      "In case of excessive usage of the E-utilities, NCBI will attempt to contact\n",
      "a user at the email address provided before blocking access to the\n",
      "E-utilities.\n",
      "  warnings.warn(\n"
     ]
    },
    {
     "name": "stdout",
     "output_type": "stream",
     "text": [
      "\n",
      "Hdr: >YP_009724390.1 surface glycoprotein [Severe acute respiratory syndrome coronavirus 2]\n",
      " *** Sequence length: 1293\n",
      "\n",
      "Hdr: >UFO69279.1 surface glycoprotein [Severe acute respiratory syndrome coronavirus 2]\n",
      " *** Sequence length: 1290\n"
     ]
    }
   ],
   "source": [
    "# retrieve and write input sequences to a single fasta file for input to Clustal. \n",
    "# This will be a temporary file used to pass data. \n",
    "\n",
    "print (\"Header and length of sequence for each input (possible NCBI warning due to lack of specified email address):\")\n",
    "# 1. Get Reference (first input)\n",
    "ref_hdr, ref_seq = read_seq(genbank_reference[1],'protein')  # Retrieve sequence data from database (accession number and database)\n",
    "\n",
    "# 2. Get Subject (second input)\n",
    "sub_hdr, sub_seq = read_seq(genbank_subject[1],'protein')    # Retrieve sequence data from database (accession number and database)\n",
    "\n",
    "temp_seqs = ref_hdr + ref_seq + sub_hdr + sub_seq            # format for Clustal    \n",
    "\n",
    "# 3. Write output for Clustal using temporary file\n",
    "tmp = tempfile.NamedTemporaryFile()       # create and write sequences to a single temporary file \n",
    "with open(tmp.name, 'w') as f:\n",
    "    f.write(temp_seqs.strip()) \n",
    "\n"
   ]
  },
  {
   "cell_type": "markdown",
   "id": "3b9ff1c0",
   "metadata": {},
   "source": [
    "## Step 3.  Align sequences for both reference and subject (Uses Clustal)"
   ]
  },
  {
   "cell_type": "code",
   "execution_count": 6,
   "id": "2e2e9f34",
   "metadata": {},
   "outputs": [
    {
     "name": "stdout",
     "output_type": "stream",
     "text": [
      "Length of aligned sequences should be equal:  1275 1275\n"
     ]
    }
   ],
   "source": [
    "# Use clustal file that has aligned subject to reference  (2 sequences in fasta format)\n",
    "# The program, 'clustal-align' was used\n",
    "# Assumes input sequence 1 is the base (reference) and sequence 2 is the subject\n",
    "# Output is subject align sequence, s_align and reference align sequence, r_align\n",
    "\n",
    "# input is a single fasta file (tmp.name) with two sequences\n",
    "\n",
    "cline = ClustalOmegaCommandline( cmd='clustalo',  infile = tmp.name,  auto = True , seqtype = 'protein')\n",
    "\n",
    "aligned_seqs, stderr = cline()        \n",
    "\n",
    "hold = aligned_seqs.split('>')[1]           # get first sequence which is reference (ignore header)\n",
    "r_align = ''.join(hold.split('\\n')[1:-1])   # get rid of line feeds\n",
    "\n",
    "hold = aligned_seqs.split('>')[2]           # get second sequence which is subject\n",
    "s_align = ''.join(hold.split('\\n')[1:-1])   # get rid of line feeds\n",
    "\n",
    "print('Length of aligned sequences should be equal: ',len(r_align), len(s_align) )\n"
   ]
  },
  {
   "cell_type": "markdown",
   "id": "06885a63",
   "metadata": {},
   "source": [
    "## Step 4. Find the mutations in aligned sequences (Reference to Subject)"
   ]
  },
  {
   "cell_type": "code",
   "execution_count": 7,
   "id": "181e0504",
   "metadata": {},
   "outputs": [],
   "source": [
    "# Find mutation in aligned sequences\n",
    "def mute_find(posM, query,ref):\n",
    "    \"\"\"\n",
    "    Inputs\n",
    "        pos   = position of mutation detection\n",
    "        query = query seq (subject)\n",
    "        ref   = reference (subject and ref are entire aligned potein sequences of equal lengths)\n",
    "    \n",
    "    Outputs:\n",
    "        typeM = type of mutation (ins, del, sub)\n",
    "        fromM = value of mutation in reference sequence (amino acid)\n",
    "        toM   = value of mutation in query sequence (amino acid)\n",
    "    \"\"\"\n",
    "    typeM,fromM, toM = '','',''   # initialize output parameters \n",
    "    mutM= ''                      # hold field to build \n",
    "\n",
    "    # Address deletion\n",
    "\n",
    "    if ref[posM] != '-' and query[posM] == '-'   :   # if so, deletion\n",
    "        fromM = ref[posM]                               # will be 'x'\n",
    "        toM = query[posM]                               # will be '-'\n",
    "        typeM = 'del'\n",
    "        return typeM, fromM, toM\n",
    "    \n",
    "    # Address insertion\n",
    " \n",
    "    if ref[posM] == '-' and query[posM] != '-'   :   # if so, insertion\n",
    "        fromM = ref[posM]                               # will be '-'\n",
    "        toM = query[posM]                               # will be 'x'\n",
    "        typeM = 'ins'\n",
    "        return typeM, fromM, toM\n",
    "\n",
    "    # Address substution \n",
    "\n",
    "    if ref[posM] != '-'  and  query[posM] != ref[posM] :   # if so, then simple substitution\n",
    "        fromM = ref[posM]\n",
    "        toM = query[posM]\n",
    "        typeM = 'sub'\n",
    "        return typeM, fromM, toM\n",
    " \n",
    "    print('Should not be here 1', posM, ref[posM:posM+2], \"  \", query[posM+1] )           \n",
    "    return typeM, fromM, toM\n"
   ]
  },
  {
   "cell_type": "code",
   "execution_count": 8,
   "id": "37aa61cf",
   "metadata": {},
   "outputs": [
    {
     "name": "stdout",
     "output_type": "stream",
     "text": [
      "Number of mutations: 40   *Consecutive inserts and deletes are not consolidated\n",
      "Number of matching elements: 1235\n"
     ]
    }
   ],
   "source": [
    "# Develop mutations\n",
    "r_align = r_align + '999'    # add '999' as end to solve edge problem \n",
    "match = 0                    # counter for number of matches\n",
    "pos = 0                      # position within aligned sequences\n",
    "mutation_list = []           # list of mutations (instances of Mutation class)\n",
    "\n",
    "while pos < len(s_align):          # increment through aligned sequences looking for mutations\n",
    "    \n",
    "    if s_align[pos] == r_align[pos]:         # does it match (i.e. no mutation)\n",
    "        match += 1                           # increment number of matches\n",
    "        pos += 1                             # increment position\n",
    "        \n",
    "    else:                                    # not a match, identify mutation\n",
    "\n",
    "        typeX, fromX, toX = mute_find(pos, s_align, r_align)    # there's a mutation in this area 'i'; identify it\n",
    "        \n",
    "        #1 Handle substitutions\n",
    "        if typeX == 'sub':               # a substitution\n",
    "            if fromX != toX:    # don't substitute like amino acids (e.g. don't N -> N)\n",
    "                mutation_list.append(Mutation(len(mutation_list)+1,  typeX, pos+1, fromX, toX))  # add mutation\n",
    "            else:   # don't substitute like amino acids (e.g. don't N -> N) --- don't create mutation\n",
    "                typeX=''           # --- don't create mutation (but advance pos by 1 by blanking type)   \n",
    "        \n",
    "        #2 Handle inserts and deletions \n",
    "        else:\n",
    "            mutation_list.append(Mutation(len(mutation_list)+1,  typeX, pos+1, fromX, toX))  # add mutation\n",
    "       \n",
    "        #3 increment position        \n",
    "        pos = pos + 1         \n",
    "print('Number of mutations:', len(mutation_list), '  *Consecutive inserts and deletes are not consolidated')\n",
    "print('Number of matching elements:', match)"
   ]
  },
  {
   "cell_type": "code",
   "execution_count": 9,
   "id": "8bcf455b",
   "metadata": {},
   "outputs": [
    {
     "name": "stdout",
     "output_type": "stream",
     "text": [
      "Number of mutations: 36   *Consecutive inserts and deletes are consolidated\n"
     ]
    }
   ],
   "source": [
    "# when there are multiple sequencial deletions or insertions, consolidate into one mutation\n",
    "prior_type = 'xxx'\n",
    "idx = 0\n",
    "while idx <=   len(mutation_list)-1:\n",
    "    # print(prior_type, mutation_list[idx].index, mutation_list[idx].typex, mutation_list[idx].align_loc, mutation_list[idx].ref_value, mutation_list[idx].subj_value)\n",
    "    if mutation_list[idx].typex == 'sub':\n",
    "        prior_type = 'sub'    # set prior, move to next\n",
    "        idx += 1        \n",
    "    else:   \n",
    "        if mutation_list[idx].typex != prior_type:   # not equal then not repeat\n",
    "            prior_type = mutation_list[idx].typex    # set prior, move to next\n",
    "            idx += 1\n",
    "        else:                          # equal; therefore, repeat. Consolidate    \n",
    "            mutation_list[idx-1].ref_value = mutation_list[idx-1].ref_value + mutation_list[idx].ref_value\n",
    "            mutation_list[idx-1].subj_value = mutation_list[idx-1].subj_value + mutation_list[idx].subj_value\n",
    "            mutation_list = mutation_list[:idx] + mutation_list[idx+1:]  # remove entry\n",
    "            prior_type = mutation_list[idx-1].typex    # set prior, move to next\n",
    "            # don't increment as one was deleted\n",
    "    \n",
    "for i,mute in enumerate(mutation_list):       # renumber mutations \n",
    "    mute.index = i+1\n",
    "print('Number of mutations:', len(mutation_list), '  *Consecutive inserts and deletes are consolidated')"
   ]
  },
  {
   "cell_type": "markdown",
   "id": "5b522ac2",
   "metadata": {},
   "source": [
    "## Step 5.  Map mutations to reference sequence."
   ]
  },
  {
   "cell_type": "code",
   "execution_count": 10,
   "id": "a3721080",
   "metadata": {},
   "outputs": [
    {
     "name": "stdout",
     "output_type": "stream",
     "text": [
      "Omicron Mutations (type, loc, change from ref),   * note, these positions are base 1 in reference\n",
      "1 sub 67 A --> V\n",
      "2 del 69 HV --> --\n",
      "3 sub 95 T --> I\n",
      "4 sub 142 G --> D\n",
      "5 del 143 VYY --> ---\n",
      "6 sub 211 N --> I\n",
      "7 sub 212 L --> V\n",
      "8 ins 212 -- --> RE\n",
      "9 sub 213 V --> P\n",
      "10 sub 214 R --> E\n",
      "11 sub 339 G --> D\n",
      "12 sub 371 S --> L\n",
      "13 sub 373 S --> P\n",
      "14 sub 375 S --> F\n",
      "15 sub 417 K --> N\n",
      "16 sub 440 N --> K\n",
      "17 sub 446 G --> S\n",
      "18 sub 477 S --> N\n",
      "19 sub 478 T --> K\n",
      "20 sub 484 E --> A\n",
      "21 sub 493 Q --> R\n",
      "22 sub 496 G --> S\n",
      "23 sub 498 Q --> R\n",
      "24 sub 501 N --> Y\n",
      "25 sub 505 Y --> H\n",
      "26 sub 547 T --> K\n",
      "27 sub 614 D --> G\n",
      "28 sub 655 H --> Y\n",
      "29 sub 679 N --> K\n",
      "30 sub 681 P --> H\n",
      "31 sub 764 N --> K\n",
      "32 sub 796 D --> Y\n",
      "33 sub 856 N --> K\n",
      "34 sub 954 Q --> H\n",
      "35 sub 969 N --> K\n",
      "36 sub 981 L --> F\n"
     ]
    }
   ],
   "source": [
    "# The above list of mutations (muts_in_align) are locations in the aligned sequence. \n",
    "# We must have corresponding locations in the referenced sequence (Base Wuhan).\n",
    "\n",
    "adjust = 10                           # length of search field (somewhat arbitary)\n",
    "ref_seq = ref_seq.replace('\\n', '')   # this is original (non-aligned) reference sequence   \n",
    "\n",
    "print (f\"{genbank_subject[0]} Mutations (type, loc, change from ref),   * note, these positions are base 1 in reference\")\n",
    "for count, mute in enumerate(mutation_list):\n",
    "    \n",
    "    # choose a search string (to avoid edge problem) and also can't have '-' that appear as in base aligned as subject inserts\n",
    "              # mute.align_loc is location of mutation in aligned base\n",
    "    r1 = mute.align_loc \n",
    "    r2 = mute.align_loc + adjust                    # go right with search string\n",
    "    \n",
    "    if r2 > len(ref_seq):                           # off the right edge\n",
    "        r1 = mute.align_loc - adjust                # if yes, go left with search string\n",
    "        r2 = mute.align_loc\n",
    "            \n",
    "    search_str = r_align[r1:r2-1]\n",
    "    search_str = search_str.replace('-', '')        # del the mutation insert character from search string\n",
    "    \n",
    "    loc = ref_seq.find(search_str)                  # search \n",
    "    if loc == -1:                    # no find string?\n",
    "        print(count+1,mute.typex, mute.align_loc, mute.ref_loc, mute.ref_value, mute.subj_value, \"NO GO\", search_str)\n",
    "        print('***  ',search_str)\n",
    "    else:                            # found string; adjust location based on direction of search and save loc in mute\n",
    "        if r1 < mute.align_loc :  mute.ref_loc = loc + adjust\n",
    "        else:                     mute.ref_loc = loc\n",
    "    print(count+1,mute.typex, mute.ref_loc, mute.ref_value, '-->', mute.subj_value)\n",
    "    "
   ]
  },
  {
   "cell_type": "code",
   "execution_count": null,
   "id": "e42704eb",
   "metadata": {},
   "outputs": [],
   "source": []
  }
 ],
 "metadata": {
  "kernelspec": {
   "display_name": "Python 3 (ipykernel)",
   "language": "python",
   "name": "python3"
  },
  "language_info": {
   "codemirror_mode": {
    "name": "ipython",
    "version": 3
   },
   "file_extension": ".py",
   "mimetype": "text/x-python",
   "name": "python",
   "nbconvert_exporter": "python",
   "pygments_lexer": "ipython3",
   "version": "3.9.7"
  }
 },
 "nbformat": 4,
 "nbformat_minor": 5
}
