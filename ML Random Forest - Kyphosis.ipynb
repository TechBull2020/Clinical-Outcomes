{
 "cells": [
  {
   "cell_type": "markdown",
   "metadata": {},
   "source": [
    "\n",
    "___\n",
    "# Predicting Clinical Outcomes for Kyphosis - \n",
    "## using the Machine Learning Random Forest Algorithm\n",
    "\n",
    "This model uses machine learning principles to predict the success or failure of surgery to remedy Kyphosis. Kyphosis is an exaggerated forward rounding of back (spine curvature). Based on the given data and population used, the success rate for this surgery is 79%. The challenge or problem is to predict, based on patient characteristics, the surgical outcome (success or failure).\n",
    "\n",
    "This model is presented as an illustration.  The Kyphosis data is very limited; only three features or patient characteristic are used (age, number of vertebrae involved in surgery, and the top most starting vertebra for surgery). The number of patients (81 total) is small.  The simplicity of the data does benefit the communication and understanding of the model. Hopefully, this model can be easily adapted to other applications that have many more features and thousands of patient records. \n",
    "\n",
    "Several machine learning algoritms could be used for this problem.  The model presented here is based on the Random Forest algorithm and the prediction (success, failure) accuracy is 76%.  Another model, using the Decison Tree algorithm, had an accuracy of 56%.  The Logistic Regression algoritm without scaling had a 68% accurracy and with scaling had 72%. It is good practice to try different algorithms. \n",
    "\n",
    "\n",
    "## Import Libraries"
   ]
  },
  {
   "cell_type": "code",
   "execution_count": 1,
   "metadata": {},
   "outputs": [],
   "source": [
    "import pandas as pd\n",
    "import numpy as np\n",
    "import matplotlib.pyplot as plt\n",
    "import seaborn as sns\n",
    "%matplotlib inline"
   ]
  },
  {
   "cell_type": "markdown",
   "metadata": {},
   "source": [
    "## Get the Data"
   ]
  },
  {
   "cell_type": "code",
   "execution_count": 2,
   "metadata": {},
   "outputs": [],
   "source": [
    "df = pd.read_csv('kyphosis.csv')"
   ]
  },
  {
   "cell_type": "markdown",
   "metadata": {},
   "source": [
    "## Summary of the data:\n",
    "- All these (81) patients (children) have been diagnosis with Kyphosis. Kyphosis is an exaggreated, forward rounding of the back. It can occur at any age but is most common in older women. Some is congenital. \n",
    "- All these patients have spine surgery for eliminate the Kyphosis. Kyphosis (absent, present) is the outcome of surgery. 'Absent' is good.  \n",
    "- Age is in months (children)\n",
    "- Number is number of vertebrae involved\n",
    "- Start is the vertebra where procedure started (top most)\n",
    "\n",
    "- Source of data is Kaggle: https://www.kaggle.com/abbasit/kyphosis-dataset"
   ]
  },
  {
   "cell_type": "markdown",
   "metadata": {},
   "source": [
    "## The problem:\n",
    "- The surgical success rate at less than 79% is a concern.\n",
    "- Given this historical data, predict the outcome (absent, present) a new patient given their features (Age, Number, Start).\n",
    "- What's the accuracy of this prediction?\n",
    "\n",
    "### Sample of data"
   ]
  },
  {
   "cell_type": "code",
   "execution_count": 3,
   "metadata": {},
   "outputs": [
    {
     "name": "stdout",
     "output_type": "stream",
     "text": [
      "\n",
      "Data elements and some data:\n",
      "   Kyphosis  Age  Number  Start\n",
      "0   absent   71       3      5\n",
      "1   absent  158       3     14\n",
      "2  present  128       4      5\n"
     ]
    }
   ],
   "source": [
    "print('\\nData elements and some data:\\n', df.head(3))"
   ]
  },
  {
   "cell_type": "markdown",
   "metadata": {},
   "source": [
    "### Restructure the data"
   ]
  },
  {
   "cell_type": "code",
   "execution_count": 4,
   "metadata": {},
   "outputs": [
    {
     "data": {
      "text/html": [
       "<div>\n",
       "<style scoped>\n",
       "    .dataframe tbody tr th:only-of-type {\n",
       "        vertical-align: middle;\n",
       "    }\n",
       "\n",
       "    .dataframe tbody tr th {\n",
       "        vertical-align: top;\n",
       "    }\n",
       "\n",
       "    .dataframe thead th {\n",
       "        text-align: right;\n",
       "    }\n",
       "</style>\n",
       "<table border=\"1\" class=\"dataframe\">\n",
       "  <thead>\n",
       "    <tr style=\"text-align: right;\">\n",
       "      <th></th>\n",
       "      <th>Age</th>\n",
       "      <th>Number</th>\n",
       "      <th>Start</th>\n",
       "      <th>Category</th>\n",
       "      <th>Ground</th>\n",
       "    </tr>\n",
       "  </thead>\n",
       "  <tbody>\n",
       "    <tr>\n",
       "      <th>0</th>\n",
       "      <td>71</td>\n",
       "      <td>3</td>\n",
       "      <td>5</td>\n",
       "      <td></td>\n",
       "      <td>1</td>\n",
       "    </tr>\n",
       "    <tr>\n",
       "      <th>1</th>\n",
       "      <td>158</td>\n",
       "      <td>3</td>\n",
       "      <td>14</td>\n",
       "      <td></td>\n",
       "      <td>1</td>\n",
       "    </tr>\n",
       "  </tbody>\n",
       "</table>\n",
       "</div>"
      ],
      "text/plain": [
       "   Age  Number  Start Category  Ground\n",
       "0   71       3      5                1\n",
       "1  158       3     14                1"
      ]
     },
     "execution_count": 4,
     "metadata": {},
     "output_type": "execute_result"
    }
   ],
   "source": [
    "df['Category'] = ' '                         # This will be indicator for Test or Train\n",
    "df[\"Ground\"] = np.where (df['Kyphosis']=='absent', 1,0)\n",
    "df=df.drop('Kyphosis',axis=1)\n",
    "df.head(2)"
   ]
  },
  {
   "cell_type": "markdown",
   "metadata": {},
   "source": [
    "## Explore the Data\n"
   ]
  },
  {
   "cell_type": "code",
   "execution_count": 5,
   "metadata": {},
   "outputs": [
    {
     "name": "stdout",
     "output_type": "stream",
     "text": [
      "Number of patients:  81 (also equals number of surgeries)\n",
      "\n",
      "Surgery: success count 64, failure count 17; success rate:  79.0% \n"
     ]
    }
   ],
   "source": [
    "print (\"Number of patients: \", df.shape[0], \"(also equals number of surgeries)\")\n",
    "absent_cnt = df.loc[df['Ground'] == 1].count()[0]     # number of successful surgeries\n",
    "present_cnt = df.loc[df[\"Ground\"] == 0].count()[0]     # number of failed surgeries\n",
    "print('\\nSurgery: success count {}, failure count {}; success rate: {: .1f}% '.format(absent_cnt,present_cnt,(absent_cnt / df.shape[0]*100)))\n"
   ]
  },
  {
   "cell_type": "code",
   "execution_count": 6,
   "metadata": {},
   "outputs": [],
   "source": [
    "def quartile_calc(df1, var):\n",
    "    \"\"\" \n",
    "    Purpose: Establish quartiles for each feature\n",
    "    Inputs: \n",
    "        dataframe (containing both features and outcome in columns). Outcome column must be labeled 'Outcomes'\n",
    "        var (column name for x axis)\n",
    "    Outputs:\n",
    "        positive outcomes per quartile in form of [n,n,n,n]\n",
    "        negative outcomes per quartile in form of [n,n,n,n] \n",
    "        quartiles \n",
    "    Assumptions:\n",
    "        Column \"Outcome\" in dataframe with '1' for positive outcome, zero otherwise.\n",
    "    \"\"\"\n",
    "    range_x = df1[var].max() - df1[var].min()\n",
    "    qtr_size = -(-range_x // 4)\n",
    "    qtr_x = [1*qtr_size,2*qtr_size,3*qtr_size,4*qtr_size ]\n",
    "    #print(\">>>Variable:\", var, \";  Range\", df1[var].min(), df1[var].max(), \";  Quartiles:\", qtr_x)\n",
    "    y_pos = [0,0,0,0]                     # quartile counts for pos outcomes\n",
    "    y_neg = [0,0,0,0]                     # quartile counts for neg outcomes\n",
    "    for i in range(df1.shape[0]):\n",
    "        if df1.iloc[i][var] <= qtr_x[0]:\n",
    "            if df1.iloc[i]['Ground'] == 1: y_pos[0] += 1\n",
    "            else: y_neg[0] += 1\n",
    "        elif df1.iloc[i][var] <= qtr_x[1]:\n",
    "            if df1.iloc[i]['Ground'] == 1: y_pos[1] += 1\n",
    "            else: y_neg[1] += 1\n",
    "        elif df1.iloc[i][var] <= qtr_x[2]:\n",
    "            if df1.iloc[i]['Ground'] == 1: y_pos[2] += 1\n",
    "            else: y_neg[2] += 1\n",
    "        else:\n",
    "            if df1.iloc[i]['Ground'] == 1: y_pos[3] += 1\n",
    "            else: y_neg[3] += 1 \n",
    "    return y_pos, y_neg, qtr_x\n",
    "\n",
    "def table(x_features, dfx):\n",
    "    \"\"\"\n",
    "    Purpose: Create a table (dataframe) for feature statistics\n",
    "    Inputs:\n",
    "        List of features\n",
    "        Dataframe\n",
    "    Outputs:\n",
    "        Table in dataframe format\n",
    "    \"\"\"\n",
    "    tablex = np.ones(len(x_features)*5).reshape(len(x_features), 5)\n",
    "    dftable= pd.DataFrame(tablex, index=x_features, columns= ['Range_Min','Range_Max','Mean', 'Stdev', 'Range_Quartiles'] )\n",
    "    dftable = dftable.astype(np.int64)\n",
    "    for feat in x_features:\n",
    "        dftable.loc[feat,'Range_Min']= int(dfx[feat].min())\n",
    "        dftable.loc[feat,'Range_Max']= int(dfx[feat].max())\n",
    "        dftable.loc[feat,'Mean']= int(dfx[feat].mean())\n",
    "        dftable.loc[feat, 'Stdev'] = str(round(dfx[feat].std(),1))\n",
    "        dftable.loc[feat, 'Range_Quartiles']= str(quartile_calc(dfx, feat)[2])\n",
    "    return dftable"
   ]
  },
  {
   "cell_type": "code",
   "execution_count": 7,
   "metadata": {},
   "outputs": [
    {
     "data": {
      "text/html": [
       "<div>\n",
       "<style scoped>\n",
       "    .dataframe tbody tr th:only-of-type {\n",
       "        vertical-align: middle;\n",
       "    }\n",
       "\n",
       "    .dataframe tbody tr th {\n",
       "        vertical-align: top;\n",
       "    }\n",
       "\n",
       "    .dataframe thead th {\n",
       "        text-align: right;\n",
       "    }\n",
       "</style>\n",
       "<table border=\"1\" class=\"dataframe\">\n",
       "  <thead>\n",
       "    <tr style=\"text-align: right;\">\n",
       "      <th></th>\n",
       "      <th>Range_Min</th>\n",
       "      <th>Range_Max</th>\n",
       "      <th>Mean</th>\n",
       "      <th>Stdev</th>\n",
       "      <th>Range_Quartiles</th>\n",
       "    </tr>\n",
       "  </thead>\n",
       "  <tbody>\n",
       "    <tr>\n",
       "      <th>Age</th>\n",
       "      <td>1</td>\n",
       "      <td>206</td>\n",
       "      <td>83</td>\n",
       "      <td>58.1</td>\n",
       "      <td>[52, 104, 156, 208]</td>\n",
       "    </tr>\n",
       "    <tr>\n",
       "      <th>Number</th>\n",
       "      <td>2</td>\n",
       "      <td>10</td>\n",
       "      <td>4</td>\n",
       "      <td>1.6</td>\n",
       "      <td>[2, 4, 6, 8]</td>\n",
       "    </tr>\n",
       "    <tr>\n",
       "      <th>Start</th>\n",
       "      <td>1</td>\n",
       "      <td>18</td>\n",
       "      <td>11</td>\n",
       "      <td>4.9</td>\n",
       "      <td>[5, 10, 15, 20]</td>\n",
       "    </tr>\n",
       "  </tbody>\n",
       "</table>\n",
       "</div>"
      ],
      "text/plain": [
       "        Range_Min  Range_Max  Mean Stdev      Range_Quartiles\n",
       "Age             1        206    83  58.1  [52, 104, 156, 208]\n",
       "Number          2         10     4   1.6         [2, 4, 6, 8]\n",
       "Start           1         18    11   4.9      [5, 10, 15, 20]"
      ]
     },
     "execution_count": 7,
     "metadata": {},
     "output_type": "execute_result"
    }
   ],
   "source": [
    "features = df.columns[0:3]\n",
    "table(features,df)"
   ]
  },
  {
   "cell_type": "code",
   "execution_count": 8,
   "metadata": {},
   "outputs": [
    {
     "data": {
      "image/png": "[encoded data removed]",
      "text/plain": [
       "<Figure size 1008x288 with 3 Axes>"
      ]
     },
     "metadata": {
      "needs_background": "light"
     },
     "output_type": "display_data"
    }
   ],
   "source": [
    "fig, axs = plt.subplots(nrows=1,ncols=3, figsize=(14,4),sharex='col',sharey='row')\n",
    "fig.subplots_adjust(hspace= 10, wspace=.5)\n",
    "for i in range(len(features)):\n",
    "    y_pos,y_neg,x = quartile_calc(df, features[i])             # Call function to calculate quartile data\n",
    "    axs[i].bar(['Q1','Q2','Q3','Q4'], y_pos, width=.3, color = 'g')\n",
    "    axs[i].bar(['Q1','Q2','Q3','Q4'], y_neg, bottom=y_pos, width =.3,color = 'r')\n",
    "    axs[i].set_yticks(np.arange(0, 45, 5))\n",
    "    axs[i].set_title(\"Outcomes by \" + features[i] + ' Quartile')\n",
    "    axs[i].legend(['Positive', 'Negative'])\n",
    "    axs[i].set_facecolor('0.85')          # light gray\n",
    "    axs[i].grid()\n",
    "    \n"
   ]
  },
  {
   "cell_type": "markdown",
   "metadata": {},
   "source": [
    "## Train Test Split\n",
    "\n",
    "Split the data into a training set and a test set."
   ]
  },
  {
   "cell_type": "code",
   "execution_count": 9,
   "metadata": {},
   "outputs": [],
   "source": [
    "from sklearn.model_selection import train_test_split"
   ]
  },
  {
   "cell_type": "code",
   "execution_count": 10,
   "metadata": {},
   "outputs": [],
   "source": [
    "X = df[['Age','Number', 'Start'] ]                   #  X = features\n",
    "y = df['Ground']                                     #  y = outcomes\n",
    "X_train, X_test, y_train, y_test = train_test_split(X, y, test_size=0.30, random_state=101)"
   ]
  },
  {
   "cell_type": "code",
   "execution_count": 11,
   "metadata": {},
   "outputs": [
    {
     "name": "stdout",
     "output_type": "stream",
     "text": [
      "   Age  Number  Start Category  Ground\n",
      "0   71       3      5    Train       1\n",
      "1  158       3     14    Train       1\n",
      "2  128       4      5     Test       0\n"
     ]
    }
   ],
   "source": [
    "# Flag the randomly selected train and test entries for future analysis\n",
    "df[\"Category\"] = \"Train\"\n",
    "for i in X_test.index:\n",
    "    df.at[i, 'Category'] = 'Test'\n",
    "print(df.head(3))\n"
   ]
  },
  {
   "cell_type": "markdown",
   "metadata": {},
   "source": [
    "### Set up Random Forest Model"
   ]
  },
  {
   "cell_type": "code",
   "execution_count": 12,
   "metadata": {},
   "outputs": [
    {
     "name": "stderr",
     "output_type": "stream",
     "text": [
      "C:\\Users\\rernst\\Anaconda3\\lib\\site-packages\\sklearn\\ensemble\\weight_boosting.py:29: DeprecationWarning: numpy.core.umath_tests is an internal NumPy module and should not be imported. It will be removed in a future NumPy release.\n",
      "  from numpy.core.umath_tests import inner1d\n"
     ]
    },
    {
     "data": {
      "text/plain": [
       "RandomForestClassifier(bootstrap=True, class_weight=None, criterion='gini',\n",
       "            max_depth=None, max_features='auto', max_leaf_nodes=None,\n",
       "            min_impurity_split=1e-07, min_samples_leaf=1,\n",
       "            min_samples_split=2, min_weight_fraction_leaf=0.0,\n",
       "            n_estimators=101, n_jobs=1, oob_score=True, random_state=242,\n",
       "            verbose=0, warm_start=False)"
      ]
     },
     "execution_count": 12,
     "metadata": {},
     "output_type": "execute_result"
    }
   ],
   "source": [
    "#from numpy.core.umath_tests import inner1d\n",
    "from sklearn.ensemble import RandomForestClassifier\n",
    "rfc = RandomForestClassifier(n_estimators=101, random_state=242, oob_score=True)\n",
    "rfc.fit(X_train, y_train)\n"
   ]
  },
  {
   "cell_type": "markdown",
   "metadata": {},
   "source": [
    "### Make predictions on the test dataset"
   ]
  },
  {
   "cell_type": "code",
   "execution_count": 13,
   "metadata": {},
   "outputs": [],
   "source": [
    "rfc_pred = rfc.predict(X_test)"
   ]
  },
  {
   "cell_type": "code",
   "execution_count": 14,
   "metadata": {},
   "outputs": [
    {
     "name": "stdout",
     "output_type": "stream",
     "text": [
      "Model Performance (Accuracy):\n",
      "Predictions from evaluate:\n",
      " 56 entries: [1 1 1 1 0 1 0 1 1 1 1 1 1 1 1 0 1 1 1 1 1 1 1 1 0 1 1 1 1 1 1 0 1 0 1 1 1\n",
      " 1 1 1 1 1 1 1 1 1 0 1 1 1 0 0 1 1 1 1]\n",
      "   Train Accuracy: 100.0\n",
      "Predictions from evaluate:\n",
      " 25 entries: [1 0 0 1 1 1 1 1 1 1 1 1 1 1 1 1 1 1 1 1 1 1 1 1 1]\n",
      "   Test Accuracy:  76.0\n"
     ]
    }
   ],
   "source": [
    "def evaluate(model, test_features, test_labels):\n",
    "    predictions = model.predict(test_features)\n",
    "    print('Predictions from evaluate:\\n', len(predictions),'entries:',  predictions)\n",
    "    errors = predictions - test_labels\n",
    "    accuracy = (1- errors.sum() / len(predictions))*100\n",
    "    return accuracy\n",
    "\n",
    "print('Model Performance (Accuracy):')\n",
    "print (\"   Train Accuracy:\", evaluate(rfc, X_train, y_train))\n",
    "print (\"   Test Accuracy: \", evaluate(rfc, X_test, y_test))"
   ]
  },
  {
   "cell_type": "markdown",
   "metadata": {},
   "source": [
    "### Calculate Accuracy"
   ]
  },
  {
   "cell_type": "code",
   "execution_count": 15,
   "metadata": {},
   "outputs": [
    {
     "name": "stdout",
     "output_type": "stream",
     "text": [
      "Confusion Matrix:\n",
      "True Positives : 2   False Positives: 6\n",
      "False Negatives: 0   True Negatives:  17\n",
      "\n",
      "Accuracy [(TP+TN)/(FN+FP)]:  76.0% \n"
     ]
    }
   ],
   "source": [
    "from sklearn.metrics import classification_report,confusion_matrix\n",
    "\n",
    "def prt_confusion(xmatrix):\n",
    "    print('Confusion Matrix:')\n",
    "    print('True Positives : {}   False Positives: {}'.format(xmatrix[0][0], xmatrix[0][1]))\n",
    "    print('False Negatives: {}   True Negatives:  {}'.format(xmatrix[1][0], xmatrix[1][1]))\n",
    "    print('\\nAccuracy [(TP+TN)/(FN+FP)]: {: .1f}% '.format((xmatrix[0][0]+ xmatrix[1][1])/ xmatrix.sum() * 100 ))\n",
    "    return\n",
    "\n",
    "matrix= confusion_matrix(y_test,rfc_pred)\n",
    "prt_confusion(matrix)"
   ]
  },
  {
   "cell_type": "code",
   "execution_count": 16,
   "metadata": {},
   "outputs": [
    {
     "name": "stdout",
     "output_type": "stream",
     "text": [
      "Classification Report: \n",
      "\n",
      "              precision    recall  f1-score   support\n",
      "\n",
      "          0       1.00      0.25      0.40         8\n",
      "          1       0.74      1.00      0.85        17\n",
      "\n",
      "avg / total       0.82      0.76      0.71        25\n",
      "\n"
     ]
    }
   ],
   "source": [
    "print('Classification Report: \\n\\n', classification_report(y_test,rfc_pred))"
   ]
  },
  {
   "cell_type": "markdown",
   "metadata": {},
   "source": [
    "\n",
    "Precision is the ability of the classifier not to label as positive a sample that is negative.\n",
    "Recall is the ability of the classifier to find all the positive samples."
   ]
  },
  {
   "cell_type": "markdown",
   "metadata": {},
   "source": [
    "### Conclusion: Model overfits the training data and under-performs on test data"
   ]
  },
  {
   "cell_type": "markdown",
   "metadata": {},
   "source": [
    "#### Some interpretations and Conclusions\n",
    "The high number of True Negatives is good for knowing when the surgery is ill advised. The low (zero) False Negatives reinforces this prediction.\n",
    "\n",
    "The high False Positives combined with low number of True Positives indicate a prediction of success is near meaningless and harmful. \n",
    "\n",
    "Accuracy and these conclusions may be improved by adding features (bone density, number of prior surgeries, weight relative to expected weight, comorbidities, etc). Accuracy may also be improved by increasing the number of patients.\n",
    "\n",
    "Cross Validation (averaging different subsets of the training data) was also used (unsuccessful) to garner additional information from the training data and to fix the overfitting. \n",
    "\n"
   ]
  }
 ],
 "metadata": {
  "kernelspec": {
   "display_name": "Python 3",
   "language": "python",
   "name": "python3"
  },
  "language_info": {
   "codemirror_mode": {
    "name": "ipython",
    "version": 3
   },
   "file_extension": ".py",
   "mimetype": "text/x-python",
   "name": "python",
   "nbconvert_exporter": "python",
   "pygments_lexer": "ipython3",
   "version": "3.6.7"
  }
 },
 "nbformat": 4,
 "nbformat_minor": 1
}
